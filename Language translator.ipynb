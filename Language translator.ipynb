{
    "cells": [
        {
            "cell_type": "code",
            "execution_count": 1,
            "metadata": {},
            "outputs": [
                {
                    "name": "stdout",
                    "output_type": "stream",
                    "text": "Requirement already satisfied: ibm_watson in c:\\users\\rishabh\\appdata\\local\\programs\\python\\python38\\lib\\site-packages (4.7.1)\nRequirement already satisfied: wget in c:\\users\\rishabh\\appdata\\local\\programs\\python\\python38\\lib\\site-packages (3.2)\nRequirement already satisfied: requests<3.0,>=2.0 in c:\\users\\rishabh\\appdata\\local\\programs\\python\\python38\\lib\\site-packages (from ibm_watson) (2.24.0)\nRequirement already satisfied: python_dateutil>=2.5.3 in c:\\users\\rishabh\\appdata\\local\\programs\\python\\python38\\lib\\site-packages (from ibm_watson) (2.8.1)\nRequirement already satisfied: websocket-client==0.48.0 in c:\\users\\rishabh\\appdata\\local\\programs\\python\\python38\\lib\\site-packages (from ibm_watson) (0.48.0)"
                },
                {
                    "name": "stderr",
                    "output_type": "stream",
                    "text": "WARNING: You are using pip version 20.2.2; however, version 20.2.3 is available.\nYou should consider upgrading via the 'c:\\users\\rishabh\\appdata\\local\\programs\\python\\python38\\python.exe -m pip install --upgrade pip' command.\n"
                },
                {
                    "name": "stdout",
                    "output_type": "stream",
                    "text": "\nRequirement already satisfied: ibm_cloud_sdk_core==1.7.3 in c:\\users\\rishabh\\appdata\\local\\programs\\python\\python38\\lib\\site-packages (from ibm_watson) (1.7.3)\nRequirement already satisfied: chardet<4,>=3.0.2 in c:\\users\\rishabh\\appdata\\local\\programs\\python\\python38\\lib\\site-packages (from requests<3.0,>=2.0->ibm_watson) (3.0.4)\nRequirement already satisfied: certifi>=2017.4.17 in c:\\users\\rishabh\\appdata\\local\\programs\\python\\python38\\lib\\site-packages (from requests<3.0,>=2.0->ibm_watson) (2020.6.20)\nRequirement already satisfied: idna<3,>=2.5 in c:\\users\\rishabh\\appdata\\local\\programs\\python\\python38\\lib\\site-packages (from requests<3.0,>=2.0->ibm_watson) (2.10)\nRequirement already satisfied: urllib3!=1.25.0,!=1.25.1,<1.26,>=1.21.1 in c:\\users\\rishabh\\appdata\\local\\programs\\python\\python38\\lib\\site-packages (from requests<3.0,>=2.0->ibm_watson) (1.25.10)\nRequirement already satisfied: six>=1.5 in c:\\users\\rishabh\\appdata\\local\\programs\\python\\python38\\lib\\site-packages (from python_dateutil>=2.5.3->ibm_watson) (1.15.0)\nRequirement already satisfied: PyJWT>=1.7.1 in c:\\users\\rishabh\\appdata\\local\\programs\\python\\python38\\lib\\site-packages (from ibm_cloud_sdk_core==1.7.3->ibm_watson) (1.7.1)\nRequirement already satisfied: Tk in c:\\users\\rishabh\\appdata\\local\\programs\\python\\python38\\lib\\site-packages (0.1.0)\nRequirement already satisfied: wget in c:\\users\\rishabh\\appdata\\local\\programs\\python\\python38\\lib\\site-packages (3.2)\n"
                },
                {
                    "name": "stderr",
                    "output_type": "stream",
                    "text": "WARNING: You are using pip version 20.2.2; however, version 20.2.3 is available.\nYou should consider upgrading via the 'c:\\users\\rishabh\\appdata\\local\\programs\\python\\python38\\python.exe -m pip install --upgrade pip' command.\n"
                }
            ],
            "source": "#you will need the following library \n!pip install ibm_watson wget\n!pip install Tk wget"
        },
        {
            "cell_type": "code",
            "execution_count": null,
            "metadata": {},
            "outputs": [],
            "source": ""
        },
        {
            "cell_type": "markdown",
            "metadata": {},
            "source": "<h2 id=\"ref1\">Language Translator</h2>\n"
        },
        {
            "cell_type": "markdown",
            "metadata": {},
            "source": "<p>First we import <code>LanguageTranslatorV3</code> from ibm_watson. For more information on the API click <a href=\"https://cloud.ibm.com/apidocs/speech-to-text?code=python\"> here</a></p>\n"
        },
        {
            "cell_type": "code",
            "execution_count": 2,
            "metadata": {},
            "outputs": [],
            "source": "from ibm_watson import LanguageTranslatorV3\nimport json\nfrom ibm_cloud_sdk_core.authenticators import IAMAuthenticator"
        },
        {
            "cell_type": "markdown",
            "metadata": {},
            "source": "<p>The service endpoint is based on the location of the service instance, we store the information in the variable URL. To find out which URL to use, view the service credentials.</p>\n<p>You require an API key, and you can obtain the key on the <a href=\"https://cloud.ibm.com/resources\">Dashboard</a>.</p>\n"
        },
        {
            "cell_type": "code",
            "execution_count": 3,
            "metadata": {
                "jupyter": {
                    "outputs_hidden": false
                }
            },
            "outputs": [],
            "source": "#@hidden call\nurl_lt='https://api.eu-gb.language-translator.watson.cloud.ibm.com/instances/daad64af-735a-451c-8f20-21293dddcd87'\napikey_lt='qWbRkYJyzmLxc6iYISWUrHkJPBMSEFDQ_UfW9_CRcDmj'"
        },
        {
            "cell_type": "markdown",
            "metadata": {},
            "source": "<p>API requests require a version parameter that takes a date in the format version=YYYY-MM-DD. This lab describes the current version of Language Translator, 2018-05-01</p>\n"
        },
        {
            "cell_type": "code",
            "execution_count": 4,
            "metadata": {
                "jupyter": {
                    "outputs_hidden": false
                }
            },
            "outputs": [],
            "source": "version_lt='2018-05-01'"
        },
        {
            "cell_type": "markdown",
            "metadata": {},
            "source": "<p>we create a  Language Translator object <code>language_translator</code>:</p>\n"
        },
        {
            "cell_type": "code",
            "execution_count": 5,
            "metadata": {
                "jupyter": {
                    "outputs_hidden": false
                }
            },
            "outputs": [
                {
                    "data": {
                        "text/plain": "<ibm_watson.language_translator_v3.LanguageTranslatorV3 at 0x20173417400>"
                    },
                    "execution_count": 5,
                    "metadata": {},
                    "output_type": "execute_result"
                }
            ],
            "source": "authenticator = IAMAuthenticator(apikey_lt)\nlanguage_translator = LanguageTranslatorV3(version=version_lt,authenticator=authenticator)\nlanguage_translator.set_service_url(url_lt)\nlanguage_translator"
        },
        {
            "cell_type": "markdown",
            "metadata": {},
            "source": "<p>We can get a Lists the languages that the service can identify.\nThe method Returns the language code.  For example English (en) to  Spanis (es) and name of each language.</p>\n"
        },
        {
            "cell_type": "code",
            "execution_count": 6,
            "metadata": {
                "jupyter": {
                    "outputs_hidden": false
                }
            },
            "outputs": [
                {
                    "data": {
                        "text/plain": "'from pandas.io.json import json_normalize\\n\\nt=json_normalize(language_translator.list_identifiable_languages().get_result(), \"languages\")\\nprint(type(t))\\nd={i:j for i,j in zip(t[\"name\"],t[\"language\"])}\\nd'"
                    },
                    "execution_count": 6,
                    "metadata": {},
                    "output_type": "execute_result"
                }
            ],
            "source": "'''from pandas.io.json import json_normalize\n\nt=json_normalize(language_translator.list_identifiable_languages().get_result(), \"languages\")\nprint(type(t))\nd={i:j for i,j in zip(t[\"name\"],t[\"language\"])}\nd'''"
        },
        {
            "cell_type": "markdown",
            "metadata": {},
            "source": "<p>We can use the method <code>translate</code> this will translate the text. The parameter text is the text. Model_id is the type of model we would like to use use we use list the language . In this case, we set it to 'en-es' or English to Spanish. We get a Detailed Response object translation_response</p>\n"
        },
        {
            "cell_type": "code",
            "execution_count": null,
            "metadata": {},
            "outputs": [],
            "source": ""
        },
        {
            "cell_type": "code",
            "execution_count": 7,
            "metadata": {},
            "outputs": [],
            "source": "from tkinter import *"
        },
        {
            "cell_type": "code",
            "execution_count": 9,
            "metadata": {},
            "outputs": [
                {
                    "ename": "SyntaxError",
                    "evalue": "(unicode error) 'unicodeescape' codec can't decode bytes in position 2-3: truncated \\UXXXXXXXX escape (<ipython-input-9-d66e137ab998>, line 4)",
                    "output_type": "error",
                    "traceback": [
                        "\u001b[1;36m  File \u001b[1;32m\"<ipython-input-9-d66e137ab998>\"\u001b[1;36m, line \u001b[1;32m4\u001b[0m\n\u001b[1;33m    photo = PhotoImage(file = \"C:\\Users\\Rishabh\\Downloads\\trans.png\")\u001b[0m\n\u001b[1;37m                              ^\u001b[0m\n\u001b[1;31mSyntaxError\u001b[0m\u001b[1;31m:\u001b[0m (unicode error) 'unicodeescape' codec can't decode bytes in position 2-3: truncated \\UXXXXXXXX escape\n"
                    ]
                }
            ],
            "source": "root=Tk()\nroot.title(\"Translator\")\nroot.geometry(\"625x250\")"
        },
        {
            "cell_type": "code",
            "execution_count": null,
            "metadata": {},
            "outputs": [],
            "source": "label1=Label(text=\"Language 1 :\")\nlabel2=Label(text=\"Language 2 :\")\n\nlabel1.place(x=30,y=10)\nlabel2.place(x=355, y=10)"
        },
        {
            "cell_type": "code",
            "execution_count": null,
            "metadata": {},
            "outputs": [],
            "source": "l1var=StringVar(root)\nl2var=StringVar(root)\na=''\nb=''\nrecognized_text=\"\""
        },
        {
            "cell_type": "code",
            "execution_count": null,
            "metadata": {},
            "outputs": [],
            "source": "Language={'Afrikaans': 'af',\n 'Arabic': 'ar',\n 'Azerbaijani': 'az',\n 'Bashkir': 'ba',\n 'Belarusian': 'be',\n 'Bulgarian': 'bg',\n 'Bengali': 'bn',\n 'Catalan': 'ca',\n 'Czech': 'cs',\n 'Chuvash': 'cv',\n 'Welsh': 'cy',\n 'Danish': 'da',\n 'German': 'de',\n 'Greek': 'el',\n 'English': 'en',\n 'Esperanto': 'eo',\n 'Spanish': 'es',\n 'Estonian': 'et',\n 'Basque': 'eu',\n 'Persian': 'fa',\n 'Finnish': 'fi',\n 'French': 'fr',\n 'Irish': 'ga',\n 'Gujarati': 'gu',\n 'Hebrew': 'he',\n 'Hindi': 'hi',\n 'Croatian': 'hr',\n 'Haitian': 'ht',\n 'Hungarian': 'hu',\n 'Armenian': 'hy',\n 'Icelandic': 'is',\n 'Italian': 'it',\n 'Japanese': 'ja',\n 'Georgian': 'ka',\n 'Kazakh': 'kk',\n 'Central Khmer': 'km',\n 'Korean': 'ko',\n 'Kurdish': 'ku',\n 'Kirghiz': 'ky',\n 'Lao': 'lo',\n 'Lithuanian': 'lt',\n 'Latvian': 'lv',\n 'Malayalam': 'ml',\n 'Mongolian': 'mn',\n 'Marathi': 'mr',\n 'Malay': 'ms',\n 'Maltese': 'mt',\n 'Burmese': 'my',\n 'Norwegian Bokmal': 'nb',\n 'Nepali': 'ne',\n 'Dutch': 'nl',\n 'Norwegian Nynorsk': 'nn',\n 'Punjabi': 'pa',\n 'Punjabi (Shahmukhi script, Pakistan)': 'pa-PK',\n 'Polish': 'pl',\n 'Pushto': 'ps',\n 'Portuguese': 'pt',\n 'Romanian': 'ro',\n 'Russian': 'ru',\n 'Sinhala': 'si',\n 'Slovakian': 'sk',\n 'Slovenian': 'sl',\n 'Somali': 'so',\n 'Albanian': 'sq',\n 'Serbian': 'sr',\n 'Swedish': 'sv',\n 'Tamil': 'ta',\n 'Telugu': 'te',\n 'Thai': 'th',\n 'Tagalog': 'tl',\n 'Turkish': 'tr',\n 'Ukrainian': 'uk',\n 'Urdu': 'ur',\n 'Vietnamese': 'vi',\n 'Simplified Chinese': 'zh',\n 'Traditional Chinese': 'zh-TW'}\nlanguage=[i for i in Language]\n#language"
        },
        {
            "cell_type": "code",
            "execution_count": null,
            "metadata": {},
            "outputs": [],
            "source": "l1var.set(\"Select\")\nl2var.set(\"Select\")"
        },
        {
            "cell_type": "code",
            "execution_count": null,
            "metadata": {},
            "outputs": [],
            "source": "s1=OptionMenu(root, l1var, *set(sorted(language)))\ns2=OptionMenu(root, l2var, *set(sorted(language)))\ns1.place(x=120, y=10)\ns2.place(x=445, y=10)"
        },
        {
            "cell_type": "code",
            "execution_count": null,
            "metadata": {},
            "outputs": [],
            "source": "def l1_dropdown(*args):\n    global a\n    a=l1var.get()\n\nl1var.trace('w', l1_dropdown)\n\ndef l2_dropdown(*args):\n    global b\n    b=l2var.get()\n    \nl2var.trace('w', l2_dropdown)"
        },
        {
            "cell_type": "code",
            "execution_count": null,
            "metadata": {},
            "outputs": [],
            "source": "L1=Text(root,height=10,width=25,wrap=WORD)\nL2=Text(root,height=10,width=25,wrap=WORD)\nL1.place(x=30,y=50)\nL2.place(x=355, y=50)"
        },
        {
            "cell_type": "code",
            "execution_count": null,
            "metadata": {},
            "outputs": [],
            "source": "def translator():\n    global a,b,Language\n    L2.delete(1.0,END) \n    recognized_text=L1.get(\"0.0\",\"end\").strip(\" \")\n    #print(recognized_text)\n    #print(Language[a],Language[b])\n    try:\n        temp=Language[a]+\"-\"+Language[b]\n        translation_response = language_translator.translate(\\\n        text=recognized_text, model_id=temp)\n        translation_response\n    \n        #The result is a dictionary.\n        translation=translation_response.get_result()\n    \n        result=translation['translations'][0]['translation']\n        L2.insert(INSERT,result)\n    except:\n        L2.insert(INSERT,recognized_text)"
        },
        {
            "cell_type": "code",
            "execution_count": null,
            "metadata": {},
            "outputs": [],
            "source": "translate=Button(root, text = \"Translate\", command=translator).place(x=265, y=70)"
        },
        {
            "cell_type": "code",
            "execution_count": null,
            "metadata": {},
            "outputs": [],
            "source": "root.mainloop()"
        }
    ],
    "metadata": {
        "kernelspec": {
            "display_name": "Python 3.6",
            "language": "python",
            "name": "python3"
        },
        "language_info": {
            "codemirror_mode": {
                "name": "ipython",
                "version": 3
            },
            "file_extension": ".py",
            "mimetype": "text/x-python",
            "name": "python",
            "nbconvert_exporter": "python",
            "pygments_lexer": "ipython3",
            "version": "3.6.9"
        }
    },
    "nbformat": 4,
    "nbformat_minor": 4
}